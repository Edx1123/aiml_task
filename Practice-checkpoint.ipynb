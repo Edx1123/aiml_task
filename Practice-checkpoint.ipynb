{
 "cells": [
  {
   "cell_type": "code",
   "execution_count": 5,
   "id": "0bd23d94-7df7-43c8-ae54-285e5f425ef7",
   "metadata": {},
   "outputs": [],
   "source": [
    "##list of no. crate two list one list connt even another odd"
   ]
  },
  {
   "cell_type": "code",
   "execution_count": 21,
   "id": "29d0a35c-4688-4c4f-aedf-22e6b5cc3951",
   "metadata": {},
   "outputs": [
    {
     "name": "stdout",
     "output_type": "stream",
     "text": [
      "[100, 50, 256, 100]\n",
      "[193, 443, 53]\n"
     ]
    }
   ],
   "source": [
    "a = [100, 50, 193,443,256,53,100]\n",
    "b,c = [] ,[]\n",
    "for i in a:\n",
    "    if i%2==0:\n",
    "        b.append(i)\n",
    "    else:\n",
    "        c.append(i)\n",
    "print(b)\n",
    "print(c)    "
   ]
  },
  {
   "cell_type": "code",
   "execution_count": 35,
   "id": "1781ee87-a61c-4755-bd39-fff894929f54",
   "metadata": {},
   "outputs": [
    {
     "name": "stdout",
     "output_type": "stream",
     "text": [
      "[]\n"
     ]
    }
   ],
   "source": [
    "d = ['a','bob',3,5.5]\n",
    "charr, word, inte, floatt = [],[],[],[]\n",
    "for i in d:\n",
    "    if i is int:\n",
    "        inte.append(i)\n",
    "    else:\n",
    "        charr.append(i)\n",
    "print(inte)"
   ]
  },
  {
   "cell_type": "code",
   "execution_count": 7,
   "id": "28b20e42-20d6-4efc-a14c-3a39104ae56a",
   "metadata": {},
   "outputs": [
    {
     "name": "stdout",
     "output_type": "stream",
     "text": [
      "20\n",
      "[20, 30]\n",
      "[20, 30, 40, 50]\n",
      "[10, 20, 30]\n",
      "[10, 20, 30, 40, 50]\n"
     ]
    }
   ],
   "source": [
    "my_list = [10,20,30,40,50]\n",
    "print(my_list[1])\n",
    "print(my_list[1:3])\n",
    "print(my_list[1:])\n",
    "print(my_list[:3])\n",
    "print(my_list[:])"
   ]
  },
  {
   "cell_type": "code",
   "execution_count": 9,
   "id": "e389d374-45b5-4187-9711-d1a6696c4281",
   "metadata": {},
   "outputs": [
    {
     "name": "stdout",
     "output_type": "stream",
     "text": [
      "30\n",
      "60\n",
      "90\n",
      "120\n",
      "150\n"
     ]
    }
   ],
   "source": [
    "for i in my_list:\n",
    "    print(i*3)"
   ]
  },
  {
   "cell_type": "code",
   "execution_count": 13,
   "id": "60d1b78f-1bb2-4f16-a164-e5b0a7fc39ee",
   "metadata": {},
   "outputs": [
    {
     "name": "stderr",
     "output_type": "stream",
     "text": [
      "<>:5: SyntaxWarning: invalid escape sequence '\\M'\n",
      "<>:5: SyntaxWarning: invalid escape sequence '\\M'\n",
      "C:\\Users\\reddy\\AppData\\Local\\Temp\\ipykernel_23960\\2204576899.py:5: SyntaxWarning: invalid escape sequence '\\M'\n",
      "  ds = pd.read_csv(\"D:\\ML\\diabetes.csv\")\n"
     ]
    },
    {
     "data": {
      "text/html": [
       "<div>\n",
       "<style scoped>\n",
       "    .dataframe tbody tr th:only-of-type {\n",
       "        vertical-align: middle;\n",
       "    }\n",
       "\n",
       "    .dataframe tbody tr th {\n",
       "        vertical-align: top;\n",
       "    }\n",
       "\n",
       "    .dataframe thead th {\n",
       "        text-align: right;\n",
       "    }\n",
       "</style>\n",
       "<table border=\"1\" class=\"dataframe\">\n",
       "  <thead>\n",
       "    <tr style=\"text-align: right;\">\n",
       "      <th></th>\n",
       "      <th>Pregnancies</th>\n",
       "      <th>Glucose</th>\n",
       "      <th>BloodPressure</th>\n",
       "      <th>SkinThickness</th>\n",
       "      <th>Insulin</th>\n",
       "      <th>BMI</th>\n",
       "      <th>DiabetesPedigreeFunction</th>\n",
       "      <th>Age</th>\n",
       "      <th>Outcome</th>\n",
       "    </tr>\n",
       "  </thead>\n",
       "  <tbody>\n",
       "    <tr>\n",
       "      <th>0</th>\n",
       "      <td>6</td>\n",
       "      <td>148</td>\n",
       "      <td>72</td>\n",
       "      <td>35</td>\n",
       "      <td>0</td>\n",
       "      <td>33.6</td>\n",
       "      <td>0.627</td>\n",
       "      <td>50</td>\n",
       "      <td>1</td>\n",
       "    </tr>\n",
       "    <tr>\n",
       "      <th>1</th>\n",
       "      <td>1</td>\n",
       "      <td>85</td>\n",
       "      <td>66</td>\n",
       "      <td>29</td>\n",
       "      <td>0</td>\n",
       "      <td>26.6</td>\n",
       "      <td>0.351</td>\n",
       "      <td>31</td>\n",
       "      <td>0</td>\n",
       "    </tr>\n",
       "    <tr>\n",
       "      <th>2</th>\n",
       "      <td>8</td>\n",
       "      <td>183</td>\n",
       "      <td>64</td>\n",
       "      <td>0</td>\n",
       "      <td>0</td>\n",
       "      <td>23.3</td>\n",
       "      <td>0.672</td>\n",
       "      <td>32</td>\n",
       "      <td>1</td>\n",
       "    </tr>\n",
       "    <tr>\n",
       "      <th>3</th>\n",
       "      <td>1</td>\n",
       "      <td>89</td>\n",
       "      <td>66</td>\n",
       "      <td>23</td>\n",
       "      <td>94</td>\n",
       "      <td>28.1</td>\n",
       "      <td>0.167</td>\n",
       "      <td>21</td>\n",
       "      <td>0</td>\n",
       "    </tr>\n",
       "    <tr>\n",
       "      <th>4</th>\n",
       "      <td>0</td>\n",
       "      <td>137</td>\n",
       "      <td>40</td>\n",
       "      <td>35</td>\n",
       "      <td>168</td>\n",
       "      <td>43.1</td>\n",
       "      <td>2.288</td>\n",
       "      <td>33</td>\n",
       "      <td>1</td>\n",
       "    </tr>\n",
       "  </tbody>\n",
       "</table>\n",
       "</div>"
      ],
      "text/plain": [
       "   Pregnancies  Glucose  BloodPressure  SkinThickness  Insulin   BMI  \\\n",
       "0            6      148             72             35        0  33.6   \n",
       "1            1       85             66             29        0  26.6   \n",
       "2            8      183             64              0        0  23.3   \n",
       "3            1       89             66             23       94  28.1   \n",
       "4            0      137             40             35      168  43.1   \n",
       "\n",
       "   DiabetesPedigreeFunction  Age  Outcome  \n",
       "0                     0.627   50        1  \n",
       "1                     0.351   31        0  \n",
       "2                     0.672   32        1  \n",
       "3                     0.167   21        0  \n",
       "4                     2.288   33        1  "
      ]
     },
     "execution_count": 13,
     "metadata": {},
     "output_type": "execute_result"
    }
   ],
   "source": [
    "import numpy as np\n",
    "import pandas as pd\n",
    "import sklearn as sk\n",
    "\n",
    "ds = pd.read_csv(\"D:\\ML\\diabetes.csv\")\n",
    "ds.head()"
   ]
  },
  {
   "cell_type": "code",
   "execution_count": 15,
   "id": "d3e9132b-1f9d-4009-91f1-cae99c866861",
   "metadata": {},
   "outputs": [
    {
     "name": "stdout",
     "output_type": "stream",
     "text": [
      "30\n",
      "60\n",
      "90\n",
      "120\n",
      "150\n"
     ]
    }
   ],
   "source": [
    "for x in range(len(my_list)):\n",
    "    print(3*my_list[x])"
   ]
  },
  {
   "cell_type": "code",
   "execution_count": 5,
   "id": "3ddd920d-6000-4182-ac89-4a7d8cf091a3",
   "metadata": {},
   "outputs": [
    {
     "data": {
      "text/plain": [
       "[('apples', 10), ('banana', 5), ('cherry', 7), ('banana', 5)]"
      ]
     },
     "execution_count": 5,
     "metadata": {},
     "output_type": "execute_result"
    }
   ],
   "source": [
    "orders = [('apples',10) , (\"banana\",5),(\"cherry\",7),(\"banana\",5)]\n",
    "orders"
   ]
  },
  {
   "cell_type": "code",
   "execution_count": 21,
   "id": "693fa97c-3064-418a-a199-f99b4442f079",
   "metadata": {},
   "outputs": [
    {
     "data": {
      "text/plain": [
       "[('apples', 10), ('banana', 5), ('cherry', 7), ('banana', 5), ['dates', 12]]"
      ]
     },
     "execution_count": 21,
     "metadata": {},
     "output_type": "execute_result"
    }
   ],
   "source": [
    "new_order = ['dates',12]\n",
    "orders.append(new_order)\n",
    "orders"
   ]
  },
  {
   "cell_type": "code",
   "execution_count": 23,
   "id": "92939596-f00f-4461-85e4-3d64589d9fba",
   "metadata": {},
   "outputs": [
    {
     "data": {
      "text/plain": [
       "[('apples', 10),\n",
       " ('banana', 5),\n",
       " ('cherry', 7),\n",
       " ('banana', 5),\n",
       " ['dates', 12],\n",
       " ('peach', 10),\n",
       " ('apple', 2)]"
      ]
     },
     "execution_count": 23,
     "metadata": {},
     "output_type": "execute_result"
    }
   ],
   "source": [
    "new_orders = [(\"peach\",10), (\"apple\",2)]\n",
    "orders.extend(new_orders)\n",
    "orders"
   ]
  },
  {
   "cell_type": "code",
   "execution_count": 25,
   "id": "3d125193-c5e8-4ae4-918f-2d7c6af2b3f8",
   "metadata": {},
   "outputs": [
    {
     "data": {
      "text/plain": [
       "[('apples', 10),\n",
       " ('banana', 5),\n",
       " ('cherry', 7),\n",
       " ('watermelon', 6),\n",
       " ('banana', 5),\n",
       " ['dates', 12],\n",
       " ('peach', 10),\n",
       " ('apple', 2)]"
      ]
     },
     "execution_count": 25,
     "metadata": {},
     "output_type": "execute_result"
    }
   ],
   "source": [
    "new_order1 = ('watermelon',6)\n",
    "orders.insert(3,new_order1)\n",
    "orders"
   ]
  },
  {
   "cell_type": "code",
   "execution_count": 19,
   "id": "5e7842f8-53a3-4b99-a716-d7a815152041",
   "metadata": {},
   "outputs": [
    {
     "name": "stdout",
     "output_type": "stream",
     "text": [
      "[['apples', 10], ['banana', 5], ['cherry', 10], ['banana', 5]]\n"
     ]
    }
   ],
   "source": [
    "orders = [['apples',10] , [\"banana\",5],[\"cherry\",7],[\"banana\",5]]\n",
    "for i in orders:\n",
    "    if i[0] == \"cherry\":\n",
    "        i[1]=10\n",
    "print(orders)"
   ]
  },
  {
   "cell_type": "code",
   "execution_count": 55,
   "id": "6fd39025-0385-43dc-8084-13670390fb67",
   "metadata": {},
   "outputs": [
    {
     "name": "stdout",
     "output_type": "stream",
     "text": [
      "[10, 20]\n",
      "30\n"
     ]
    }
   ],
   "source": [
    "orders = [['apples',10] , [\"banana\",4],[\"cherry\",7],[\"graps\",6],['apples',20]]\n",
    "apple_orders = []\n",
    "for i in orders:\n",
    "    if i[0] == 'apples':\n",
    "        apple_orders.append(i[1])\n",
    "print(apple_orders)\n",
    "print(sum(apple_orders))"
   ]
  },
  {
   "cell_type": "code",
   "execution_count": 1,
   "id": "3c832ba8-bd2f-481b-bb41-9a24a6f2978f",
   "metadata": {},
   "outputs": [
    {
     "name": "stdout",
     "output_type": "stream",
     "text": [
      "30\n"
     ]
    }
   ],
   "source": [
    "orders = [['apples', 10], ['banana', 4], ['cherry', 7], ['grapes', 6], ['apples', 20]]\n",
    "c = 0\n",
    "for i in orders:\n",
    "    if i[0] == 'apples':\n",
    "        c += i[1]\n",
    "print(c)"
   ]
  },
  {
   "cell_type": "code",
   "execution_count": 39,
   "id": "21c9f69b-eaec-43b2-8349-d14a4bb9cbb5",
   "metadata": {},
   "outputs": [
    {
     "name": "stdout",
     "output_type": "stream",
     "text": [
      "\n",
      " (3, 5, 8) \n",
      " (4, 8, 9, 6, 7) \n",
      " (1, 2, 3, 5) \n",
      " ([3, 5, 4], (1, 2, 3), 'hello', 10.5)\n"
     ]
    }
   ],
   "source": [
    "tup1 = (3,5,8)\n",
    "tup2 = 4,8,9,6,7\n",
    "tup3 = tuple([1,2,3,5])\n",
    "tup4 = ([3,5,4],(1,2,3),\"hello\",10.5)\n",
    "print('\\n',tup1,'\\n',tup2,'\\n',tup3,'\\n',tup4)"
   ]
  },
  {
   "cell_type": "code",
   "execution_count": 45,
   "id": "ff30bbbd-bc27-41d3-8f81-ee8a6f0454f7",
   "metadata": {},
   "outputs": [
    {
     "name": "stdout",
     "output_type": "stream",
     "text": [
      "([3, 5, 4], (1, 2, 3), 'hello', 10.5)\n"
     ]
    },
    {
     "data": {
      "text/plain": [
       "5"
      ]
     },
     "execution_count": 45,
     "metadata": {},
     "output_type": "execute_result"
    }
   ],
   "source": [
    "print(tup4)\n",
    "tup4[0][1]"
   ]
  },
  {
   "cell_type": "code",
   "execution_count": 47,
   "id": "d8ec4ecd-d012-4c72-b5a4-2a86c2393d8b",
   "metadata": {},
   "outputs": [
    {
     "name": "stdout",
     "output_type": "stream",
     "text": [
      "([3, 10, 4], (1, 2, 3), 'hello', 10.5)\n"
     ]
    }
   ],
   "source": [
    "tup4[0][1]=10\n",
    "print(tup4)"
   ]
  },
  {
   "cell_type": "code",
   "execution_count": 49,
   "id": "34632b9e-2c07-41fd-92ad-80e948c82876",
   "metadata": {},
   "outputs": [
    {
     "ename": "TypeError",
     "evalue": "'tuple' object does not support item assignment",
     "output_type": "error",
     "traceback": [
      "\u001b[1;31m---------------------------------------------------------------------------\u001b[0m",
      "\u001b[1;31mTypeError\u001b[0m                                 Traceback (most recent call last)",
      "Cell \u001b[1;32mIn[49], line 1\u001b[0m\n\u001b[1;32m----> 1\u001b[0m tup4[\u001b[38;5;241m1\u001b[39m][\u001b[38;5;241m1\u001b[39m] \u001b[38;5;241m=\u001b[39m \u001b[38;5;241m7\u001b[39m\n",
      "\u001b[1;31mTypeError\u001b[0m: 'tuple' object does not support item assignment"
     ]
    }
   ],
   "source": [
    "tup4[1][1] = 7"
   ]
  },
  {
   "cell_type": "code",
   "execution_count": 51,
   "id": "91e3f278-b0f2-4477-9abe-bd869917ec31",
   "metadata": {},
   "outputs": [
    {
     "data": {
      "text/plain": [
       "2"
      ]
     },
     "execution_count": 51,
     "metadata": {},
     "output_type": "execute_result"
    }
   ],
   "source": [
    "tup4.index('hello')"
   ]
  },
  {
   "cell_type": "code",
   "execution_count": 53,
   "id": "fc1ae2aa-7b0e-4fd9-9570-8a018d9b4730",
   "metadata": {},
   "outputs": [
    {
     "data": {
      "text/plain": [
       "6"
      ]
     },
     "execution_count": 53,
     "metadata": {},
     "output_type": "execute_result"
    }
   ],
   "source": [
    "tup5 = (11,12,44,11,10,11,11,11,11)\n",
    "tup5.count(11)"
   ]
  },
  {
   "cell_type": "code",
   "execution_count": 1,
   "id": "f746fbdd-357d-46f0-9193-6583eb5244cd",
   "metadata": {},
   "outputs": [
    {
     "name": "stdout",
     "output_type": "stream",
     "text": [
      "{'a': 1, 'b': 2, 'c': 3}\n",
      "<class 'dict'>\n"
     ]
    }
   ],
   "source": [
    "d = {'a' : 1,'b':2, 'c' : 3}\n",
    "print(d)\n",
    "print(type(d))"
   ]
  },
  {
   "cell_type": "code",
   "execution_count": 3,
   "id": "02629e18-0966-42b2-babf-0d652cfafb78",
   "metadata": {},
   "outputs": [
    {
     "name": "stdout",
     "output_type": "stream",
     "text": [
      "{'a': 1, 'b': 2, 'c': 3}\n",
      "<class 'dict'>\n"
     ]
    }
   ],
   "source": [
    "d1 = dict(a=1,b=2,c=3)\n",
    "print(d1)\n",
    "print(type(d1))"
   ]
  },
  {
   "cell_type": "code",
   "execution_count": 7,
   "id": "9b45ca44-711a-4d69-9254-b217eeb9ff52",
   "metadata": {},
   "outputs": [
    {
     "name": "stdout",
     "output_type": "stream",
     "text": [
      "{'x': 1, 'y': 2, 'z': 3}\n"
     ]
    }
   ],
   "source": [
    "d3 = dict([('x',1),('y',2),('z',3)])\n",
    "print(d3)"
   ]
  },
  {
   "cell_type": "code",
   "execution_count": 11,
   "id": "d65a58e7-f73b-4ec4-9aa1-bb7fed08ab8e",
   "metadata": {},
   "outputs": [
    {
     "name": "stdout",
     "output_type": "stream",
     "text": [
      "dict_keys(['x', 'y', 'z'])\n",
      "dict_values([1, 2, 3])\n",
      "dict_items([('x', 1), ('y', 2), ('z', 3)])\n"
     ]
    }
   ],
   "source": [
    "print(d3.keys())\n",
    "print(d3.values())\n",
    "print(d3.items())"
   ]
  },
  {
   "cell_type": "code",
   "execution_count": 13,
   "id": "4ba9012e-6d1c-4814-aa4b-f865b5b11a0c",
   "metadata": {},
   "outputs": [
    {
     "data": {
      "text/plain": [
       "['__class__',\n",
       " '__class_getitem__',\n",
       " '__contains__',\n",
       " '__delattr__',\n",
       " '__delitem__',\n",
       " '__dir__',\n",
       " '__doc__',\n",
       " '__eq__',\n",
       " '__format__',\n",
       " '__ge__',\n",
       " '__getattribute__',\n",
       " '__getitem__',\n",
       " '__getstate__',\n",
       " '__gt__',\n",
       " '__hash__',\n",
       " '__init__',\n",
       " '__init_subclass__',\n",
       " '__ior__',\n",
       " '__iter__',\n",
       " '__le__',\n",
       " '__len__',\n",
       " '__lt__',\n",
       " '__ne__',\n",
       " '__new__',\n",
       " '__or__',\n",
       " '__reduce__',\n",
       " '__reduce_ex__',\n",
       " '__repr__',\n",
       " '__reversed__',\n",
       " '__ror__',\n",
       " '__setattr__',\n",
       " '__setitem__',\n",
       " '__sizeof__',\n",
       " '__str__',\n",
       " '__subclasshook__',\n",
       " 'clear',\n",
       " 'copy',\n",
       " 'fromkeys',\n",
       " 'get',\n",
       " 'items',\n",
       " 'keys',\n",
       " 'pop',\n",
       " 'popitem',\n",
       " 'setdefault',\n",
       " 'update',\n",
       " 'values']"
      ]
     },
     "execution_count": 13,
     "metadata": {},
     "output_type": "execute_result"
    }
   ],
   "source": [
    "dir(dict)"
   ]
  },
  {
   "cell_type": "code",
   "execution_count": 21,
   "id": "526c1ee8-4eea-4989-be52-e5628d7cb816",
   "metadata": {},
   "outputs": [
    {
     "data": {
      "text/plain": [
       "{'virat': 90,\n",
       " 'Rohit': 100,\n",
       " 'rahul': 70,\n",
       " 'hardik': 9,\n",
       " 'gill': 20,\n",
       " 'jadeja': 30,\n",
       " 'siraz': 15}"
      ]
     },
     "execution_count": 21,
     "metadata": {},
     "output_type": "execute_result"
    }
   ],
   "source": [
    "score = {'virat':90,'Rohit':100,'rahul':70,'hardik':9,'gill':20,'jadeja':30,'siraz':15}\n",
    "score"
   ]
  },
  {
   "cell_type": "code",
   "execution_count": 31,
   "id": "6e18f44e-97a6-4971-bc79-25dc0494cce0",
   "metadata": {},
   "outputs": [
    {
     "data": {
      "text/plain": [
       "{'virat': 90,\n",
       " 'Rohit': 100,\n",
       " 'rahul': 70,\n",
       " 'hardik': 9,\n",
       " 'gill': 20,\n",
       " 'jadeja': 50,\n",
       " 'siraz': 15,\n",
       " 'aswin': 15}"
      ]
     },
     "execution_count": 31,
     "metadata": {},
     "output_type": "execute_result"
    }
   ],
   "source": [
    "#add aswin\n",
    "score['aswin']=15\n",
    "score"
   ]
  },
  {
   "cell_type": "code",
   "execution_count": 29,
   "id": "139d9435-47b6-4c62-bbd3-1074c1e9c9c3",
   "metadata": {},
   "outputs": [
    {
     "data": {
      "text/plain": [
       "{'virat': 90,\n",
       " 'Rohit': 100,\n",
       " 'rahul': 70,\n",
       " 'hardik': 9,\n",
       " 'gill': 20,\n",
       " 'jadeja': 50,\n",
       " 'siraz': 15,\n",
       " 'aswin': 15}"
      ]
     },
     "execution_count": 29,
     "metadata": {},
     "output_type": "execute_result"
    }
   ],
   "source": [
    "##update jadeja score\n",
    "score.update({'jadeja':50})\n",
    "score"
   ]
  },
  {
   "cell_type": "code",
   "execution_count": 39,
   "id": "c226dc8e-df4d-42fe-a0f3-4175a1bf5619",
   "metadata": {},
   "outputs": [
    {
     "data": {
      "text/plain": [
       "{'virat': 90,\n",
       " 'Rohit': 100,\n",
       " 'rahul': 70,\n",
       " 'hardik': 65,\n",
       " 'gill': 20,\n",
       " 'jadeja': 50,\n",
       " 'siraz': 15,\n",
       " 'aswin': 15,\n",
       " 'rahane': 45}"
      ]
     },
     "execution_count": 39,
     "metadata": {},
     "output_type": "execute_result"
    }
   ],
   "source": [
    "##upade hardik and rahane\n",
    "score.update({'hardik':65,'rahane':45})\n",
    "score"
   ]
  },
  {
   "cell_type": "code",
   "execution_count": 49,
   "id": "5c30a58b-591f-48a0-ad86-a9e6ebe0ec0e",
   "metadata": {},
   "outputs": [
    {
     "data": {
      "text/plain": [
       "{'virat': 90,\n",
       " 'Rohit': 100,\n",
       " 'rahul': 70,\n",
       " 'hardik': 65,\n",
       " 'gill': 20,\n",
       " 'jadeja': 50,\n",
       " 'siraz': 15,\n",
       " 'aswin': 15,\n",
       " 'rahane': 45}"
      ]
     },
     "execution_count": 49,
     "metadata": {},
     "output_type": "execute_result"
    }
   ],
   "source": [
    "#setdefault\n",
    "score.setdefault('rahul',60)\n",
    "score\n"
   ]
  },
  {
   "cell_type": "code",
   "execution_count": 51,
   "id": "9e73530a-7114-4e5d-bbd6-8cbfa6027ffb",
   "metadata": {},
   "outputs": [
    {
     "data": {
      "text/plain": [
       "{'virat': 90,\n",
       " 'Rohit': 100,\n",
       " 'rahul': 70,\n",
       " 'hardik': 65,\n",
       " 'gill': 20,\n",
       " 'jadeja': 50,\n",
       " 'siraz': 15,\n",
       " 'aswin': 15,\n",
       " 'rahane': 45,\n",
       " 'pujara': 50}"
      ]
     },
     "execution_count": 51,
     "metadata": {},
     "output_type": "execute_result"
    }
   ],
   "source": [
    "score.setdefault('pujara',50)\n",
    "score"
   ]
  },
  {
   "cell_type": "code",
   "execution_count": 53,
   "id": "1350edfd-fb8f-4c14-bb3e-ef5eae599154",
   "metadata": {},
   "outputs": [
    {
     "data": {
      "text/plain": [
       "{'virat': 90,\n",
       " 'Rohit': 100,\n",
       " 'rahul': 70,\n",
       " 'hardik': 65,\n",
       " 'gill': 20,\n",
       " 'jadeja': 50,\n",
       " 'siraz': 15,\n",
       " 'aswin': 15,\n",
       " 'rahane': 45}"
      ]
     },
     "execution_count": 53,
     "metadata": {},
     "output_type": "execute_result"
    }
   ],
   "source": [
    "##popitem()\n",
    "score.popitem()\n",
    "score"
   ]
  },
  {
   "cell_type": "code",
   "execution_count": 55,
   "id": "47d782aa-77eb-4df8-9019-a63aec14d8b2",
   "metadata": {},
   "outputs": [
    {
     "data": {
      "text/plain": [
       "{'virat': 90,\n",
       " 'Rohit': 100,\n",
       " 'rahul': 70,\n",
       " 'hardik': 65,\n",
       " 'jadeja': 50,\n",
       " 'siraz': 15,\n",
       " 'aswin': 15,\n",
       " 'rahane': 45}"
      ]
     },
     "execution_count": 55,
     "metadata": {},
     "output_type": "execute_result"
    }
   ],
   "source": [
    "#pop()\n",
    "score.pop('gill')\n",
    "score"
   ]
  },
  {
   "cell_type": "code",
   "execution_count": 57,
   "id": "0d461ab3-ef93-4fc0-8ca9-714a87af74f0",
   "metadata": {},
   "outputs": [
    {
     "data": {
      "text/plain": [
       "15"
      ]
     },
     "execution_count": 57,
     "metadata": {},
     "output_type": "execute_result"
    }
   ],
   "source": [
    "#get\n",
    "score.get('siraz')"
   ]
  },
  {
   "cell_type": "code",
   "execution_count": 74,
   "id": "52d83934-26e8-459b-acfe-2219f0db5016",
   "metadata": {},
   "outputs": [
    {
     "data": {
      "text/plain": [
       "{'a': None, 'b': None, 'c': None, 'd': None}"
      ]
     },
     "execution_count": 74,
     "metadata": {},
     "output_type": "execute_result"
    }
   ],
   "source": [
    "#use of fromkey() to create a new dict\n",
    "list1 = ['a','b','c','d']\n",
    "mydict = dict.fromkeys(list1)\n",
    "#mydict = dict.fromkeys(list1,10) => {'a': 10, 'b': 10, 'c': 10, 'd': 10}\n",
    "mydict"
   ]
  },
  {
   "cell_type": "code",
   "execution_count": 76,
   "id": "d6304ed0-02b9-4144-996a-0866a309fb34",
   "metadata": {},
   "outputs": [
    {
     "data": {
      "text/plain": [
       "{'a': 10, 'b': 20, 'c': None, 'd': None}"
      ]
     },
     "execution_count": 76,
     "metadata": {},
     "output_type": "execute_result"
    }
   ],
   "source": [
    "#update mydict\n",
    "mydict.update({'a':10,'b':20})\n",
    "mydict"
   ]
  },
  {
   "cell_type": "code",
   "execution_count": 3,
   "id": "bde77190-4758-4726-bf75-e8bc7c812f79",
   "metadata": {},
   "outputs": [
    {
     "name": "stdout",
     "output_type": "stream",
     "text": [
      "{1, 2, 3, 4, 5, 6}\n",
      "<class 'set'>\n"
     ]
    }
   ],
   "source": [
    "s1 = {1,2,3,4,5,6}\n",
    "print(s1)\n",
    "print(type(s1))"
   ]
  },
  {
   "cell_type": "code",
   "execution_count": 5,
   "id": "9de028e6-4a03-41cd-a13c-f8700ea38614",
   "metadata": {},
   "outputs": [
    {
     "name": "stdout",
     "output_type": "stream",
     "text": [
      "{1, 2, 3, 5, 8}\n"
     ]
    }
   ],
   "source": [
    "s2 = {1,2,3,2,5,2,8}\n",
    "print(s2)"
   ]
  },
  {
   "cell_type": "code",
   "execution_count": 7,
   "id": "fc9b982c-80e2-4a0b-8675-614f49e35762",
   "metadata": {},
   "outputs": [
    {
     "name": "stdout",
     "output_type": "stream",
     "text": [
      "{1, 2, 3, 4, 5, 6, 7}\n"
     ]
    }
   ],
   "source": [
    "lis1 = [1,2,3,4,5,6,7]\n",
    "s2 = set(lis1)\n",
    "print(s2)"
   ]
  },
  {
   "cell_type": "code",
   "execution_count": 9,
   "id": "092aa360-9594-4328-a3a0-48736b4feb2d",
   "metadata": {},
   "outputs": [
    {
     "data": {
      "text/plain": [
       "['__and__',\n",
       " '__class__',\n",
       " '__class_getitem__',\n",
       " '__contains__',\n",
       " '__delattr__',\n",
       " '__dir__',\n",
       " '__doc__',\n",
       " '__eq__',\n",
       " '__format__',\n",
       " '__ge__',\n",
       " '__getattribute__',\n",
       " '__getstate__',\n",
       " '__gt__',\n",
       " '__hash__',\n",
       " '__iand__',\n",
       " '__init__',\n",
       " '__init_subclass__',\n",
       " '__ior__',\n",
       " '__isub__',\n",
       " '__iter__',\n",
       " '__ixor__',\n",
       " '__le__',\n",
       " '__len__',\n",
       " '__lt__',\n",
       " '__ne__',\n",
       " '__new__',\n",
       " '__or__',\n",
       " '__rand__',\n",
       " '__reduce__',\n",
       " '__reduce_ex__',\n",
       " '__repr__',\n",
       " '__ror__',\n",
       " '__rsub__',\n",
       " '__rxor__',\n",
       " '__setattr__',\n",
       " '__sizeof__',\n",
       " '__str__',\n",
       " '__sub__',\n",
       " '__subclasshook__',\n",
       " '__xor__',\n",
       " 'add',\n",
       " 'clear',\n",
       " 'copy',\n",
       " 'difference',\n",
       " 'difference_update',\n",
       " 'discard',\n",
       " 'intersection',\n",
       " 'intersection_update',\n",
       " 'isdisjoint',\n",
       " 'issubset',\n",
       " 'issuperset',\n",
       " 'pop',\n",
       " 'remove',\n",
       " 'symmetric_difference',\n",
       " 'symmetric_difference_update',\n",
       " 'union',\n",
       " 'update']"
      ]
     },
     "execution_count": 9,
     "metadata": {},
     "output_type": "execute_result"
    }
   ],
   "source": [
    "dir(set)"
   ]
  },
  {
   "cell_type": "code",
   "execution_count": 11,
   "id": "68fdf21b-a64f-484e-a8ec-5871a97829b0",
   "metadata": {},
   "outputs": [],
   "source": [
    "s1 = {1,2,3,4}\n",
    "s2 = {3,5,2,7}"
   ]
  },
  {
   "cell_type": "code",
   "execution_count": 15,
   "id": "f6ee0f5e-041c-457d-aec0-d9949d167db1",
   "metadata": {},
   "outputs": [
    {
     "data": {
      "text/plain": [
       "{1, 2, 3, 4, 5, 7}"
      ]
     },
     "execution_count": 15,
     "metadata": {},
     "output_type": "execute_result"
    }
   ],
   "source": [
    "#union operation using \"|\"\n",
    "s1|s2"
   ]
  },
  {
   "cell_type": "code",
   "execution_count": 17,
   "id": "e9457f4e-c965-430f-857a-5a38b0a58b4a",
   "metadata": {},
   "outputs": [
    {
     "data": {
      "text/plain": [
       "{1, 2, 3, 4, 5, 7}"
      ]
     },
     "execution_count": 17,
     "metadata": {},
     "output_type": "execute_result"
    }
   ],
   "source": [
    "#using union\n",
    "s1.union(s2)"
   ]
  },
  {
   "cell_type": "code",
   "execution_count": 19,
   "id": "7fe17a2a-7c44-48ed-9403-ad964d732dfb",
   "metadata": {},
   "outputs": [],
   "source": [
    "s1 = {1,2,3}\n",
    "s2 = {3,4,5}"
   ]
  },
  {
   "cell_type": "code",
   "execution_count": 21,
   "id": "8094972a-9fdb-4d63-a884-16388e901973",
   "metadata": {},
   "outputs": [
    {
     "data": {
      "text/plain": [
       "{3}"
      ]
     },
     "execution_count": 21,
     "metadata": {},
     "output_type": "execute_result"
    }
   ],
   "source": [
    "#intersectio operation using \"&\" operator\n",
    "s1&s2"
   ]
  },
  {
   "cell_type": "code",
   "execution_count": 23,
   "id": "5dca1af5-2c06-4e8d-9d62-c8b0596c94fb",
   "metadata": {},
   "outputs": [
    {
     "data": {
      "text/plain": [
       "{3}"
      ]
     },
     "execution_count": 23,
     "metadata": {},
     "output_type": "execute_result"
    }
   ],
   "source": [
    "#using intersection\n",
    "s1.intersection(s2)"
   ]
  },
  {
   "cell_type": "code",
   "execution_count": 25,
   "id": "4cdda8dc-601f-4a14-955d-97914d9679a1",
   "metadata": {},
   "outputs": [],
   "source": [
    "s1 = {1,2,3,4,5}\n",
    "s2 = {3,4,5,6}"
   ]
  },
  {
   "cell_type": "code",
   "execution_count": 27,
   "id": "89e490ce-3dec-4a80-ae86-661838dc2361",
   "metadata": {},
   "outputs": [
    {
     "data": {
      "text/plain": [
       "{1, 2}"
      ]
     },
     "execution_count": 27,
     "metadata": {},
     "output_type": "execute_result"
    }
   ],
   "source": [
    "#diffrence of two sets\n",
    "s1 - s2"
   ]
  },
  {
   "cell_type": "code",
   "execution_count": 29,
   "id": "3e1c005a-1cdf-486e-aa31-b3aef141f3da",
   "metadata": {},
   "outputs": [
    {
     "data": {
      "text/plain": [
       "{6}"
      ]
     },
     "execution_count": 29,
     "metadata": {},
     "output_type": "execute_result"
    }
   ],
   "source": [
    "s2 - s1"
   ]
  },
  {
   "cell_type": "code",
   "execution_count": 35,
   "id": "0ca7a16f-af10-4924-a2d0-2e3a523be081",
   "metadata": {},
   "outputs": [
    {
     "data": {
      "text/plain": [
       "{1, 2, 3, 7, 8, 9, 10}"
      ]
     },
     "execution_count": 35,
     "metadata": {},
     "output_type": "execute_result"
    }
   ],
   "source": [
    "#symmetric difference\n",
    "s1 = {1,2,3,4,5,6,7}\n",
    "s2 = {4,5,6,8,9,10}\n",
    "s1.symmetric_difference(s2)"
   ]
  },
  {
   "cell_type": "code",
   "execution_count": 37,
   "id": "305b2b43-d5e0-4347-b728-9657daac79a9",
   "metadata": {},
   "outputs": [
    {
     "data": {
      "text/plain": [
       "{1, 2, 3, 7, 8, 9, 10}"
      ]
     },
     "execution_count": 37,
     "metadata": {},
     "output_type": "execute_result"
    }
   ],
   "source": [
    "s2.symmetric_difference(s1)"
   ]
  },
  {
   "cell_type": "markdown",
   "id": "7159c814-27ae-402b-a633-1887cc97685f",
   "metadata": {},
   "source": [
    "Strings"
   ]
  },
  {
   "cell_type": "code",
   "execution_count": 42,
   "id": "003dfbd4-2bca-42ea-a7f2-e2340278f90f",
   "metadata": {},
   "outputs": [
    {
     "name": "stdout",
     "output_type": "stream",
     "text": [
      "welcome to aiml\n",
      "We started with python\n",
      "this class is awesome\n"
     ]
    }
   ],
   "source": [
    "str1 = \"welcome to aiml\"\n",
    "print(str1)\n",
    "str2 = 'We started with python'\n",
    "print(str2)\n",
    "str3 = \"\"\"this class is awesome\"\"\"\n",
    "print(str3)"
   ]
  },
  {
   "cell_type": "code",
   "execution_count": 56,
   "id": "905d8422-69c2-4213-943e-d595d98be8e9",
   "metadata": {},
   "outputs": [
    {
     "name": "stdout",
     "output_type": "stream",
     "text": [
      "he said, \"it's awsome\"\n"
     ]
    },
    {
     "data": {
      "text/plain": [
       "'id, \"it'"
      ]
     },
     "execution_count": 56,
     "metadata": {},
     "output_type": "execute_result"
    }
   ],
   "source": [
    "s = '''he said, \"it's awsome\"'''\n",
    "print(s)\n",
    "s[5:12]"
   ]
  },
  {
   "cell_type": "code",
   "execution_count": 62,
   "id": "5535c4de-2ea9-4ee6-9bdb-898d47353b70",
   "metadata": {},
   "outputs": [
    {
     "data": {
      "text/plain": [
       "'\"emoswa s\\'ti\" ,dias eh'"
      ]
     },
     "execution_count": 62,
     "metadata": {},
     "output_type": "execute_result"
    }
   ],
   "source": [
    "s[::-1]"
   ]
  },
  {
   "cell_type": "code",
   "execution_count": 64,
   "id": "f8613b3a-f52a-49b0-a8b4-c07814ac99e8",
   "metadata": {},
   "outputs": [
    {
     "data": {
      "text/plain": [
       "['__add__',\n",
       " '__class__',\n",
       " '__contains__',\n",
       " '__delattr__',\n",
       " '__dir__',\n",
       " '__doc__',\n",
       " '__eq__',\n",
       " '__format__',\n",
       " '__ge__',\n",
       " '__getattribute__',\n",
       " '__getitem__',\n",
       " '__getnewargs__',\n",
       " '__getstate__',\n",
       " '__gt__',\n",
       " '__hash__',\n",
       " '__init__',\n",
       " '__init_subclass__',\n",
       " '__iter__',\n",
       " '__le__',\n",
       " '__len__',\n",
       " '__lt__',\n",
       " '__mod__',\n",
       " '__mul__',\n",
       " '__ne__',\n",
       " '__new__',\n",
       " '__reduce__',\n",
       " '__reduce_ex__',\n",
       " '__repr__',\n",
       " '__rmod__',\n",
       " '__rmul__',\n",
       " '__setattr__',\n",
       " '__sizeof__',\n",
       " '__str__',\n",
       " '__subclasshook__',\n",
       " 'capitalize',\n",
       " 'casefold',\n",
       " 'center',\n",
       " 'count',\n",
       " 'encode',\n",
       " 'endswith',\n",
       " 'expandtabs',\n",
       " 'find',\n",
       " 'format',\n",
       " 'format_map',\n",
       " 'index',\n",
       " 'isalnum',\n",
       " 'isalpha',\n",
       " 'isascii',\n",
       " 'isdecimal',\n",
       " 'isdigit',\n",
       " 'isidentifier',\n",
       " 'islower',\n",
       " 'isnumeric',\n",
       " 'isprintable',\n",
       " 'isspace',\n",
       " 'istitle',\n",
       " 'isupper',\n",
       " 'join',\n",
       " 'ljust',\n",
       " 'lower',\n",
       " 'lstrip',\n",
       " 'maketrans',\n",
       " 'partition',\n",
       " 'removeprefix',\n",
       " 'removesuffix',\n",
       " 'replace',\n",
       " 'rfind',\n",
       " 'rindex',\n",
       " 'rjust',\n",
       " 'rpartition',\n",
       " 'rsplit',\n",
       " 'rstrip',\n",
       " 'split',\n",
       " 'splitlines',\n",
       " 'startswith',\n",
       " 'strip',\n",
       " 'swapcase',\n",
       " 'title',\n",
       " 'translate',\n",
       " 'upper',\n",
       " 'zfill']"
      ]
     },
     "execution_count": 64,
     "metadata": {},
     "output_type": "execute_result"
    }
   ],
   "source": [
    "dir(str)"
   ]
  },
  {
   "cell_type": "code",
   "execution_count": 68,
   "id": "752691d9-2075-4ad4-8131-c90b40abb1e4",
   "metadata": {},
   "outputs": [
    {
     "name": "stdout",
     "output_type": "stream",
     "text": [
      "he said, \"it's awsome\"\n"
     ]
    },
    {
     "data": {
      "text/plain": [
       "['he', 'said,', '\"it\\'s', 'awsome\"']"
      ]
     },
     "execution_count": 68,
     "metadata": {},
     "output_type": "execute_result"
    }
   ],
   "source": [
    "print(s)\n",
    "s.split()"
   ]
  },
  {
   "cell_type": "code",
   "execution_count": 78,
   "id": "f5feb2ca-a85c-4ccc-ac2b-b81b40972534",
   "metadata": {},
   "outputs": [
    {
     "name": "stdout",
     "output_type": "stream",
     "text": [
      "hello. how are you?\n"
     ]
    }
   ],
   "source": [
    "#use of join() method\n",
    "str4 = [\"hello.\",\"how are you?\"]\n",
    "joined_string = ' '.join(str4)\n",
    "print(joined_string)"
   ]
  },
  {
   "cell_type": "code",
   "execution_count": 82,
   "id": "75c39a0d-8767-433f-9201-4a54acfda71d",
   "metadata": {},
   "outputs": [
    {
     "data": {
      "text/plain": [
       "'hello,    how are you'"
      ]
     },
     "execution_count": 82,
     "metadata": {},
     "output_type": "execute_result"
    }
   ],
   "source": [
    "# strip()\n",
    "str5 = \"   hello,    how are you     \"\n",
    "str5.strip()"
   ]
  },
  {
   "cell_type": "code",
   "execution_count": 84,
   "id": "4b41056a-9906-416a-96e6-5d9fb1dcbc2f",
   "metadata": {},
   "outputs": [],
   "source": [
    "# Example dictionary for product sales analysis\n",
    "sales_data = {\n",
    "    \"ProductID\": [101, 102, 103, 104, 105, 106, 107, 108, 109, 110],\n",
    "    \"ProductName\": [\"Laptop\", \"Mouse\", \"Keyboard\", \"Monitor\", \"Chair\", \"Desk\", \"Webcam\", \"Headphones\", \"Printer\", \"Tablet\"],\n",
    "    \"Category\": [\"Electronics\", \"Accessories\", \"Accessories\", \"Electronics\", \"Furniture\", \"Furniture\", \"Electronics\", \"Accessories\", \"Electronics\", \"Electronics\"],\n",
    "    \"PriceRange\": [\"High\", \"Low\", \"Low\", \"Medium\", \"Medium\", \"Medium\", \"Low\", \"Low\", \"Medium\", \"High\"],\n",
    "    \"StockAvailable\": [15, 100, 75, 20, 10, 8, 50, 60, 25, 12],\n",
    "}"
   ]
  },
  {
   "cell_type": "code",
   "execution_count": 86,
   "id": "26e82c17-7e2e-4af7-9fef-c5f5cca50492",
   "metadata": {},
   "outputs": [
    {
     "name": "stdout",
     "output_type": "stream",
     "text": [
      "ProductID {101, 102, 103, 104, 105, 106, 107, 108, 109, 110},/n\n",
      "ProductName {'Desk', 'Chair', 'Keyboard', 'Tablet', 'Mouse', 'Monitor', 'Printer', 'Webcam', 'Laptop', 'Headphones'},/n\n",
      "Category {'Furniture', 'Electronics', 'Accessories'},/n\n",
      "PriceRange {'Low', 'Medium', 'High'},/n\n",
      "StockAvailable {100, 8, 10, 75, 12, 15, 50, 20, 25, 60},/n\n"
     ]
    }
   ],
   "source": [
    "for k,v in sales_data.items():\n",
    "    print(k,set(v),end=\",\")\n",
    "    print('/n')"
   ]
  },
  {
   "cell_type": "code",
   "execution_count": null,
   "id": "d38e4ca3-0c93-4f0b-86ce-f7b07ca88434",
   "metadata": {},
   "outputs": [],
   "source": []
  }
 ],
 "metadata": {
  "kernelspec": {
   "display_name": "Python [conda env:base] *",
   "language": "python",
   "name": "conda-base-py"
  },
  "language_info": {
   "codemirror_mode": {
    "name": "ipython",
    "version": 3
   },
   "file_extension": ".py",
   "mimetype": "text/x-python",
   "name": "python",
   "nbconvert_exporter": "python",
   "pygments_lexer": "ipython3",
   "version": "3.12.7"
  }
 },
 "nbformat": 4,
 "nbformat_minor": 5
}
