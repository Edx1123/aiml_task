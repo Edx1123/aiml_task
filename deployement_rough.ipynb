{
 "cells": [
  {
   "cell_type": "code",
   "execution_count": 1,
   "id": "31b81cfa-bf96-4ce6-b0ee-86d5f7e79974",
   "metadata": {},
   "outputs": [
    {
     "name": "stderr",
     "output_type": "stream",
     "text": [
      "2025-03-08 08:45:04.317 \n",
      "  \u001b[33m\u001b[1mWarning:\u001b[0m to view this Streamlit app on a browser, run it with the following\n",
      "  command:\n",
      "\n",
      "    streamlit run C:\\ProgramData\\anaconda3\\Lib\\site-packages\\ipykernel_launcher.py [ARGUMENTS]\n"
     ]
    }
   ],
   "source": [
    "import streamlit as st\n",
    "import pandas as pd\n",
    "import numpy as np\n",
    "import matplotlib.pyplot as plt\n",
    "from sklearn.linear_model import LinearRegression\n",
    "from sklearn.model_selection import train_test_split\n",
    "from sklearn.metrics import mean_squared_error\n",
    "\n",
    "# Streamlit App\n",
    "st.title(\"Interactive Linear Regression with Plot\")\n",
    "\n",
    "# File uploader for CSV file\n",
    "uploaded_file = st.file_uploader(\"Upload your CSV file\", type=\"csv\")\n",
    "\n",
    "if uploaded_file is not None:\n",
    "    # Load the dataset\n",
    "    df = pd.read_csv(uploaded_file)\n",
    "    \n",
    "    # Show a preview of the data\n",
    "    st.write(\"Data Preview:\")\n",
    "    st.write(df.head())\n",
    "    \n",
    "    # Select columns for the X and Y axes\n",
    "    st.sidebar.header(\"Select Columns for Model\")\n",
    "    x_column = st.sidebar.selectbox(\"Select independent variable (X)\", df.columns)\n",
    "    y_column = st.sidebar.selectbox(\"Select dependent variable (Y)\", df.columns)\n",
    "    \n",
    "    # Extract features and target\n",
    "    X = df[[x_column]]\n",
    "    y = df[y_column]\n",
    "    \n",
    "    # Split the data into training and testing sets\n",
    "    X_train, X_test, y_train, y_test = train_test_split(X, y, test_size=0.2, random_state=42)\n",
    "    \n",
    "    # Train a linear regression model\n",
    "    model = LinearRegression()\n",
    "    model.fit(X_train, y_train)\n",
    "    \n",
    "    # Predict on test data\n",
    "    y_pred = model.predict(X_test)\n",
    "    \n",
    "    # Calculate model performance\n",
    "    mse = mean_squared_error(y_test, y_pred)\n",
    "    st.write(f\"Mean Squared Error: {mse:.2f}\")\n",
    "    \n",
    "    # Display coefficients of the model\n",
    "    st.write(f\"Model Coefficients: {model.coef_}\")\n",
    "    \n",
    "    # Create a scatter plot of the actual data and the regression line\n",
    "    fig, ax = plt.subplots()\n",
    "    ax.scatter(X_test, y_test, color='blue', label='Actual data')\n",
    "    ax.plot(X_test, y_pred, color='red', label='Regression line')\n",
    "    ax.set_xlabel(x_column)\n",
    "    ax.set_ylabel(y_column)\n",
    "    ax.legend()\n",
    "    \n",
    "    st.pyplot(fig)\n",
    "\n",
    "    # Show predictions for a given input value\n",
    "    st.sidebar.header(\"Make Prediction\")\n",
    "    input_value = st.sidebar.number_input(f\"Input value for {x_column}\", min_value=float(X[x_column].min()), max_value=float(X[x_column].max()), step=0.1)\n",
    "    \n",
    "    predicted_value = model.predict(np.array([[input_value]]))\n",
    "    st.sidebar.write(f\"Predicted value of {y_column}: {predicted_value[0]:.2f}\")\n"
   ]
  },
  {
   "cell_type": "code",
   "execution_count": null,
   "id": "244bbda0-c048-493b-93ef-1cd2ecb3d68c",
   "metadata": {},
   "outputs": [],
   "source": []
  }
 ],
 "metadata": {
  "kernelspec": {
   "display_name": "Python 3 (ipykernel)",
   "language": "python",
   "name": "python3"
  },
  "language_info": {
   "codemirror_mode": {
    "name": "ipython",
    "version": 3
   },
   "file_extension": ".py",
   "mimetype": "text/x-python",
   "name": "python",
   "nbconvert_exporter": "python",
   "pygments_lexer": "ipython3",
   "version": "3.12.4"
  }
 },
 "nbformat": 4,
 "nbformat_minor": 5
}
